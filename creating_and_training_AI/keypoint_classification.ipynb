{
 "cells": [
  {
   "cell_type": "code",
   "execution_count": 2,
   "metadata": {},
   "outputs": [],
   "source": [
    "import csv\n",
    "import tensorflowjs as tfjs\n",
    "import numpy as np\n",
    "import tensorflow as tf\n",
    "from sklearn.model_selection import train_test_split\n",
    "import matplotlib.pyplot as plt\n",
    "%load_ext tensorboard\n",
    "import pandas as pd\n",
    "import tensorflow as tf\n",
    "import datetime\n",
    "\n",
    "RANDOM_SEED = 42"
   ]
  },
  {
   "cell_type": "markdown",
   "metadata": {},
   "source": [
    "# 各パス指定"
   ]
  },
  {
   "cell_type": "code",
   "execution_count": 31,
   "metadata": {},
   "outputs": [],
   "source": [
    "dataset = 'model/keypoint_classifier/keypoint.csv'\n",
    "model_save_path = 'model/keypoint_classifier/keypoint_classifier.hdf5'"
   ]
  },
  {
   "cell_type": "code",
   "execution_count": 32,
   "metadata": {},
   "outputs": [],
   "source": [
    "import pandas as pd\n",
    "df = pd.read_csv(dataset, header=None, low_memory=False, decimal=',')"
   ]
  },
  {
   "cell_type": "markdown",
   "metadata": {},
   "source": [
    "# 分類数設定"
   ]
  },
  {
   "cell_type": "code",
   "execution_count": 43,
   "metadata": {},
   "outputs": [],
   "source": [
    "NUM_CLASSES = 28"
   ]
  },
  {
   "cell_type": "markdown",
   "metadata": {},
   "source": [
    "# ĐỌC DỮ LIỆU"
   ]
  },
  {
   "cell_type": "code",
   "execution_count": 81,
   "metadata": {},
   "outputs": [],
   "source": [
    "X_dataset = np.loadtxt(dataset, delimiter=',', dtype='float32', usecols=list(range(1, 21*2 + 1)))\n",
    "y_dataset = np.loadtxt(dataset, delimiter=',', dtype='int32', usecols=(0))"
   ]
  },
  {
   "cell_type": "code",
   "execution_count": 82,
   "metadata": {},
   "outputs": [],
   "source": [
    "X_train, X_val, y_train, y_val = train_test_split(X_dataset, y_dataset, train_size=0.75, random_state=RANDOM_SEED)"
   ]
  },
  {
   "cell_type": "markdown",
   "metadata": {},
   "source": [
    "# TẠO MODEL"
   ]
  },
  {
   "cell_type": "code",
   "execution_count": 161,
   "metadata": {},
   "outputs": [],
   "source": [
    "model = tf.keras.models.Sequential([\n",
    "    tf.keras.layers.Input((21 * 2, )),\n",
    "    tf.keras.layers.Dense(200),\n",
    "    tf.keras.layers.BatchNormalization(),\n",
    "    tf.keras.layers.Activation('relu'),\n",
    "    tf.keras.layers.Dropout(0.2),\n",
    "    tf.keras.layers.Dense(400),\n",
    "    tf.keras.layers.BatchNormalization(),\n",
    "    tf.keras.layers.Activation('relu'),\n",
    "    tf.keras.layers.Dense(1200),\n",
    "    tf.keras.layers.BatchNormalization(),\n",
    "    tf.keras.layers.Activation('relu'),\n",
    "    tf.keras.layers.Dropout(0.4),\n",
    "    tf.keras.layers.Dense(600),\n",
    "    tf.keras.layers.BatchNormalization(),\n",
    "    tf.keras.layers.Activation('relu'),\n",
    "    tf.keras.layers.Dense(300),\n",
    "    tf.keras.layers.BatchNormalization(),\n",
    "    tf.keras.layers.Activation('relu'),\n",
    "    tf.keras.layers.Dropout(0.2),\n",
    "    tf.keras.layers.Dense(20),\n",
    "    tf.keras.layers.BatchNormalization(),\n",
    "    tf.keras.layers.Activation('relu'),\n",
    "    tf.keras.layers.Dense(NUM_CLASSES, activation='softmax')\n",
    "])"
   ]
  },
  {
   "cell_type": "code",
   "execution_count": 162,
   "metadata": {},
   "outputs": [
    {
     "name": "stdout",
     "output_type": "stream",
     "text": [
      "Model: \"sequential_13\"\n",
      "_________________________________________________________________\n",
      "Layer (type)                 Output Shape              Param #   \n",
      "=================================================================\n",
      "dense_97 (Dense)             (None, 200)               8600      \n",
      "_________________________________________________________________\n",
      "batch_normalization_85 (Batc (None, 200)               800       \n",
      "_________________________________________________________________\n",
      "activation_85 (Activation)   (None, 200)               0         \n",
      "_________________________________________________________________\n",
      "dropout_46 (Dropout)         (None, 200)               0         \n",
      "_________________________________________________________________\n",
      "dense_98 (Dense)             (None, 400)               80400     \n",
      "_________________________________________________________________\n",
      "batch_normalization_86 (Batc (None, 400)               1600      \n",
      "_________________________________________________________________\n",
      "activation_86 (Activation)   (None, 400)               0         \n",
      "_________________________________________________________________\n",
      "dense_99 (Dense)             (None, 1200)              481200    \n",
      "_________________________________________________________________\n",
      "batch_normalization_87 (Batc (None, 1200)              4800      \n",
      "_________________________________________________________________\n",
      "activation_87 (Activation)   (None, 1200)              0         \n",
      "_________________________________________________________________\n",
      "dropout_47 (Dropout)         (None, 1200)              0         \n",
      "_________________________________________________________________\n",
      "dense_100 (Dense)            (None, 600)               720600    \n",
      "_________________________________________________________________\n",
      "batch_normalization_88 (Batc (None, 600)               2400      \n",
      "_________________________________________________________________\n",
      "activation_88 (Activation)   (None, 600)               0         \n",
      "_________________________________________________________________\n",
      "dense_101 (Dense)            (None, 300)               180300    \n",
      "_________________________________________________________________\n",
      "batch_normalization_89 (Batc (None, 300)               1200      \n",
      "_________________________________________________________________\n",
      "activation_89 (Activation)   (None, 300)               0         \n",
      "_________________________________________________________________\n",
      "dropout_48 (Dropout)         (None, 300)               0         \n",
      "_________________________________________________________________\n",
      "dense_102 (Dense)            (None, 20)                6020      \n",
      "_________________________________________________________________\n",
      "batch_normalization_90 (Batc (None, 20)                80        \n",
      "_________________________________________________________________\n",
      "activation_90 (Activation)   (None, 20)                0         \n",
      "_________________________________________________________________\n",
      "dense_103 (Dense)            (None, 28)                588       \n",
      "=================================================================\n",
      "Total params: 1,488,588\n",
      "Trainable params: 1,483,148\n",
      "Non-trainable params: 5,440\n",
      "_________________________________________________________________\n"
     ]
    }
   ],
   "source": [
    "model.summary()  # tf.keras.utils.plot_model(model, show_shapes=True)"
   ]
  },
  {
   "cell_type": "code",
   "execution_count": 167,
   "metadata": {},
   "outputs": [],
   "source": [
    "cp_callback = tf.keras.callbacks.ModelCheckpoint(\n",
    "    model_save_path, verbose=1, save_weights_only=False)\n",
    "es_callback = tf.keras.callbacks.EarlyStopping(patience=10, verbose=1)"
   ]
  },
  {
   "cell_type": "code",
   "execution_count": 168,
   "metadata": {},
   "outputs": [],
   "source": [
    "model.compile(\n",
    "    optimizer='Nadam',\n",
    "    loss='sparse_categorical_crossentropy',\n",
    "    metrics=['accuracy']\n",
    ")"
   ]
  },
  {
   "cell_type": "markdown",
   "metadata": {},
   "source": [
    "# HUẤN LUYỆN MODEL"
   ]
  },
  {
   "cell_type": "code",
   "execution_count": 169,
   "metadata": {},
   "outputs": [],
   "source": [
    "log_dir = \"logs/fit/\" + datetime.datetime.now().strftime(\"%Y%m%d-%H%M%S\")\n",
    "tensorboard_callback = tf.keras.callbacks.TensorBoard(log_dir=log_dir, histogram_freq=1)"
   ]
  },
  {
   "cell_type": "code",
   "execution_count": 170,
   "metadata": {
    "scrolled": true
   },
   "outputs": [
    {
     "name": "stdout",
     "output_type": "stream",
     "text": [
      "Epoch 1/100\n",
      "  2/909 [..............................] - ETA: 2:04 - loss: 0.1758 - accuracy: 0.9375WARNING:tensorflow:Callbacks method `on_train_batch_end` is slow compared to the batch time (batch time: 0.0283s vs `on_train_batch_end` time: 0.2323s). Check your callbacks.\n",
      "909/909 [==============================] - ETA: 0s - loss: 0.1941 - accuracy: 0.9354\n",
      "Epoch 00001: saving model to model/keypoint_classifier\\keypoint_classifier.hdf5\n",
      "909/909 [==============================] - 49s 53ms/step - loss: 0.1941 - accuracy: 0.9354 - val_loss: 0.1370 - val_accuracy: 0.9606\n",
      "Epoch 2/100\n",
      "908/909 [============================>.] - ETA: 0s - loss: 0.1815 - accuracy: 0.9383\n",
      "Epoch 00002: saving model to model/keypoint_classifier\\keypoint_classifier.hdf5\n",
      "909/909 [==============================] - 59s 65ms/step - loss: 0.1815 - accuracy: 0.9383 - val_loss: 0.2220 - val_accuracy: 0.9259\n",
      "Epoch 3/100\n",
      "908/909 [============================>.] - ETA: 0s - loss: 0.1719 - accuracy: 0.9415\n",
      "Epoch 00003: saving model to model/keypoint_classifier\\keypoint_classifier.hdf5\n",
      "909/909 [==============================] - 52s 58ms/step - loss: 0.1720 - accuracy: 0.9415 - val_loss: 0.0956 - val_accuracy: 0.9711\n",
      "Epoch 4/100\n",
      "908/909 [============================>.] - ETA: 0s - loss: 0.1622 - accuracy: 0.9442\n",
      "Epoch 00004: saving model to model/keypoint_classifier\\keypoint_classifier.hdf5\n",
      "909/909 [==============================] - 55s 60ms/step - loss: 0.1622 - accuracy: 0.9442 - val_loss: 0.1026 - val_accuracy: 0.9677\n",
      "Epoch 5/100\n",
      "908/909 [============================>.] - ETA: 0s - loss: 0.1527 - accuracy: 0.9483\n",
      "Epoch 00005: saving model to model/keypoint_classifier\\keypoint_classifier.hdf5\n",
      "909/909 [==============================] - 55s 60ms/step - loss: 0.1528 - accuracy: 0.9483 - val_loss: 0.1077 - val_accuracy: 0.9645\n",
      "Epoch 6/100\n",
      "908/909 [============================>.] - ETA: 0s - loss: 0.1485 - accuracy: 0.9500\n",
      "Epoch 00006: saving model to model/keypoint_classifier\\keypoint_classifier.hdf5\n",
      "909/909 [==============================] - 55s 60ms/step - loss: 0.1486 - accuracy: 0.9499 - val_loss: 0.1135 - val_accuracy: 0.9614\n",
      "Epoch 7/100\n",
      "908/909 [============================>.] - ETA: 0s - loss: 0.1417 - accuracy: 0.9512\n",
      "Epoch 00007: saving model to model/keypoint_classifier\\keypoint_classifier.hdf5\n",
      "909/909 [==============================] - 56s 61ms/step - loss: 0.1417 - accuracy: 0.9512 - val_loss: 0.0777 - val_accuracy: 0.9742\n",
      "Epoch 8/100\n",
      "908/909 [============================>.] - ETA: 0s - loss: 0.1361 - accuracy: 0.9536\n",
      "Epoch 00008: saving model to model/keypoint_classifier\\keypoint_classifier.hdf5\n",
      "909/909 [==============================] - 53s 58ms/step - loss: 0.1362 - accuracy: 0.9536 - val_loss: 0.0790 - val_accuracy: 0.9742\n",
      "Epoch 9/100\n",
      "909/909 [==============================] - ETA: 0s - loss: 0.1303 - accuracy: 0.9560\n",
      "Epoch 00009: saving model to model/keypoint_classifier\\keypoint_classifier.hdf5\n",
      "909/909 [==============================] - 53s 58ms/step - loss: 0.1303 - accuracy: 0.9560 - val_loss: 0.0730 - val_accuracy: 0.9775\n",
      "Epoch 10/100\n",
      "908/909 [============================>.] - ETA: 0s - loss: 0.1285 - accuracy: 0.9567\n",
      "Epoch 00010: saving model to model/keypoint_classifier\\keypoint_classifier.hdf5\n",
      "909/909 [==============================] - 51s 56ms/step - loss: 0.1285 - accuracy: 0.9568 - val_loss: 0.0610 - val_accuracy: 0.9811\n",
      "Epoch 11/100\n",
      "908/909 [============================>.] - ETA: 0s - loss: 0.1219 - accuracy: 0.9582\n",
      "Epoch 00011: saving model to model/keypoint_classifier\\keypoint_classifier.hdf5\n",
      "909/909 [==============================] - 48s 53ms/step - loss: 0.1221 - accuracy: 0.9581 - val_loss: 0.0852 - val_accuracy: 0.9711\n",
      "Epoch 12/100\n",
      "908/909 [============================>.] - ETA: 0s - loss: 0.1206 - accuracy: 0.9587\n",
      "Epoch 00012: saving model to model/keypoint_classifier\\keypoint_classifier.hdf5\n",
      "909/909 [==============================] - 48s 53ms/step - loss: 0.1207 - accuracy: 0.9587 - val_loss: 0.0699 - val_accuracy: 0.9771\n",
      "Epoch 13/100\n",
      "908/909 [============================>.] - ETA: 0s - loss: 0.1165 - accuracy: 0.9596\n",
      "Epoch 00013: saving model to model/keypoint_classifier\\keypoint_classifier.hdf5\n",
      "909/909 [==============================] - 49s 53ms/step - loss: 0.1165 - accuracy: 0.9596 - val_loss: 0.0563 - val_accuracy: 0.9826\n",
      "Epoch 14/100\n",
      "908/909 [============================>.] - ETA: 0s - loss: 0.1142 - accuracy: 0.9605\n",
      "Epoch 00014: saving model to model/keypoint_classifier\\keypoint_classifier.hdf5\n",
      "909/909 [==============================] - 50s 55ms/step - loss: 0.1142 - accuracy: 0.9605 - val_loss: 0.0595 - val_accuracy: 0.9810\n",
      "Epoch 15/100\n",
      "908/909 [============================>.] - ETA: 0s - loss: 0.1128 - accuracy: 0.9611\n",
      "Epoch 00015: saving model to model/keypoint_classifier\\keypoint_classifier.hdf5\n",
      "909/909 [==============================] - 50s 55ms/step - loss: 0.1129 - accuracy: 0.9611 - val_loss: 0.0634 - val_accuracy: 0.9789\n",
      "Epoch 16/100\n",
      "908/909 [============================>.] - ETA: 0s - loss: 0.1091 - accuracy: 0.9619\n",
      "Epoch 00016: saving model to model/keypoint_classifier\\keypoint_classifier.hdf5\n",
      "909/909 [==============================] - 55s 60ms/step - loss: 0.1092 - accuracy: 0.9619 - val_loss: 0.0729 - val_accuracy: 0.9764\n",
      "Epoch 17/100\n",
      "908/909 [============================>.] - ETA: 0s - loss: 0.1062 - accuracy: 0.9636\n",
      "Epoch 00017: saving model to model/keypoint_classifier\\keypoint_classifier.hdf5\n",
      "909/909 [==============================] - 58s 64ms/step - loss: 0.1062 - accuracy: 0.9636 - val_loss: 0.0575 - val_accuracy: 0.9807\n",
      "Epoch 18/100\n",
      "908/909 [============================>.] - ETA: 0s - loss: 0.1016 - accuracy: 0.9643\n",
      "Epoch 00018: saving model to model/keypoint_classifier\\keypoint_classifier.hdf5\n",
      "909/909 [==============================] - 52s 57ms/step - loss: 0.1016 - accuracy: 0.9643 - val_loss: 0.0570 - val_accuracy: 0.9817\n",
      "Epoch 19/100\n",
      "908/909 [============================>.] - ETA: 0s - loss: 0.0993 - accuracy: 0.9659\n",
      "Epoch 00019: saving model to model/keypoint_classifier\\keypoint_classifier.hdf5\n",
      "909/909 [==============================] - 52s 58ms/step - loss: 0.0993 - accuracy: 0.9659 - val_loss: 0.0502 - val_accuracy: 0.9832\n",
      "Epoch 20/100\n",
      "908/909 [============================>.] - ETA: 0s - loss: 0.1010 - accuracy: 0.9651\n",
      "Epoch 00020: saving model to model/keypoint_classifier\\keypoint_classifier.hdf5\n",
      "909/909 [==============================] - 53s 58ms/step - loss: 0.1010 - accuracy: 0.9650 - val_loss: 0.0562 - val_accuracy: 0.9822\n",
      "Epoch 21/100\n",
      "908/909 [============================>.] - ETA: 0s - loss: 0.0985 - accuracy: 0.9660\n",
      "Epoch 00021: saving model to model/keypoint_classifier\\keypoint_classifier.hdf5\n",
      "909/909 [==============================] - 53s 58ms/step - loss: 0.0985 - accuracy: 0.9660 - val_loss: 0.0582 - val_accuracy: 0.9810\n",
      "Epoch 22/100\n",
      "908/909 [============================>.] - ETA: 0s - loss: 0.0942 - accuracy: 0.9675\n",
      "Epoch 00022: saving model to model/keypoint_classifier\\keypoint_classifier.hdf5\n",
      "909/909 [==============================] - 53s 58ms/step - loss: 0.0943 - accuracy: 0.9675 - val_loss: 0.0489 - val_accuracy: 0.9850\n",
      "Epoch 23/100\n",
      "908/909 [============================>.] - ETA: 0s - loss: 0.0927 - accuracy: 0.9671\n",
      "Epoch 00023: saving model to model/keypoint_classifier\\keypoint_classifier.hdf5\n",
      "909/909 [==============================] - 63s 69ms/step - loss: 0.0927 - accuracy: 0.9671 - val_loss: 0.0499 - val_accuracy: 0.9841\n",
      "Epoch 24/100\n",
      "908/909 [============================>.] - ETA: 0s - loss: 0.0915 - accuracy: 0.9685\n",
      "Epoch 00024: saving model to model/keypoint_classifier\\keypoint_classifier.hdf5\n",
      "909/909 [==============================] - 55s 60ms/step - loss: 0.0915 - accuracy: 0.9685 - val_loss: 0.0436 - val_accuracy: 0.9869\n",
      "Epoch 25/100\n",
      "908/909 [============================>.] - ETA: 0s - loss: 0.0878 - accuracy: 0.9696\n",
      "Epoch 00025: saving model to model/keypoint_classifier\\keypoint_classifier.hdf5\n",
      "909/909 [==============================] - 51s 56ms/step - loss: 0.0879 - accuracy: 0.9696 - val_loss: 0.0496 - val_accuracy: 0.9839\n",
      "Epoch 26/100\n",
      "908/909 [============================>.] - ETA: 0s - loss: 0.0903 - accuracy: 0.9685\n",
      "Epoch 00026: saving model to model/keypoint_classifier\\keypoint_classifier.hdf5\n"
     ]
    },
    {
     "name": "stdout",
     "output_type": "stream",
     "text": [
      "909/909 [==============================] - 48s 52ms/step - loss: 0.0903 - accuracy: 0.9685 - val_loss: 0.0454 - val_accuracy: 0.9857\n",
      "Epoch 27/100\n",
      "908/909 [============================>.] - ETA: 0s - loss: 0.0871 - accuracy: 0.9701\n",
      "Epoch 00027: saving model to model/keypoint_classifier\\keypoint_classifier.hdf5\n",
      "909/909 [==============================] - 48s 52ms/step - loss: 0.0871 - accuracy: 0.9701 - val_loss: 0.0423 - val_accuracy: 0.9869\n",
      "Epoch 28/100\n",
      "909/909 [==============================] - ETA: 0s - loss: 0.0839 - accuracy: 0.9712\n",
      "Epoch 00028: saving model to model/keypoint_classifier\\keypoint_classifier.hdf5\n",
      "909/909 [==============================] - 48s 52ms/step - loss: 0.0839 - accuracy: 0.9712 - val_loss: 0.0479 - val_accuracy: 0.9846\n",
      "Epoch 29/100\n",
      "908/909 [============================>.] - ETA: 0s - loss: 0.0823 - accuracy: 0.9719\n",
      "Epoch 00029: saving model to model/keypoint_classifier\\keypoint_classifier.hdf5\n",
      "909/909 [==============================] - 47s 51ms/step - loss: 0.0823 - accuracy: 0.9719 - val_loss: 0.0411 - val_accuracy: 0.9875\n",
      "Epoch 30/100\n",
      "908/909 [============================>.] - ETA: 0s - loss: 0.0828 - accuracy: 0.9718\n",
      "Epoch 00030: saving model to model/keypoint_classifier\\keypoint_classifier.hdf5\n",
      "909/909 [==============================] - 48s 53ms/step - loss: 0.0829 - accuracy: 0.9718 - val_loss: 0.0420 - val_accuracy: 0.9869\n",
      "Epoch 31/100\n",
      "909/909 [==============================] - ETA: 0s - loss: 0.0809 - accuracy: 0.9719\n",
      "Epoch 00031: saving model to model/keypoint_classifier\\keypoint_classifier.hdf5\n",
      "909/909 [==============================] - 45s 50ms/step - loss: 0.0809 - accuracy: 0.9719 - val_loss: 0.0405 - val_accuracy: 0.9874\n",
      "Epoch 32/100\n",
      "908/909 [============================>.] - ETA: 0s - loss: 0.0775 - accuracy: 0.9730\n",
      "Epoch 00032: saving model to model/keypoint_classifier\\keypoint_classifier.hdf5\n",
      "909/909 [==============================] - 52s 57ms/step - loss: 0.0776 - accuracy: 0.9730 - val_loss: 0.0375 - val_accuracy: 0.9878\n",
      "Epoch 33/100\n",
      "907/909 [============================>.] - ETA: 1s - loss: 0.0785 - accuracy: 0.9728\n",
      "Epoch 00033: saving model to model/keypoint_classifier\\keypoint_classifier.hdf5\n",
      "909/909 [==============================] - 719s 791ms/step - loss: 0.0786 - accuracy: 0.9728 - val_loss: 0.0374 - val_accuracy: 0.9889\n",
      "Epoch 34/100\n",
      "909/909 [==============================] - ETA: 0s - loss: 0.0774 - accuracy: 0.9729\n",
      "Epoch 00034: saving model to model/keypoint_classifier\\keypoint_classifier.hdf5\n",
      "909/909 [==============================] - 25s 28ms/step - loss: 0.0774 - accuracy: 0.9729 - val_loss: 0.0392 - val_accuracy: 0.9880\n",
      "Epoch 35/100\n",
      "909/909 [==============================] - ETA: 0s - loss: 0.0780 - accuracy: 0.9723\n",
      "Epoch 00035: saving model to model/keypoint_classifier\\keypoint_classifier.hdf5\n",
      "909/909 [==============================] - 27s 29ms/step - loss: 0.0780 - accuracy: 0.9723 - val_loss: 0.0375 - val_accuracy: 0.9887\n",
      "Epoch 36/100\n",
      "908/909 [============================>.] - ETA: 0s - loss: 0.0738 - accuracy: 0.9747\n",
      "Epoch 00036: saving model to model/keypoint_classifier\\keypoint_classifier.hdf5\n",
      "909/909 [==============================] - 37s 41ms/step - loss: 0.0738 - accuracy: 0.9747 - val_loss: 0.0356 - val_accuracy: 0.9898\n",
      "Epoch 37/100\n",
      "908/909 [============================>.] - ETA: 0s - loss: 0.0744 - accuracy: 0.9744\n",
      "Epoch 00037: saving model to model/keypoint_classifier\\keypoint_classifier.hdf5\n",
      "909/909 [==============================] - 45s 50ms/step - loss: 0.0744 - accuracy: 0.9744 - val_loss: 0.0373 - val_accuracy: 0.9882\n",
      "Epoch 38/100\n",
      "908/909 [============================>.] - ETA: 0s - loss: 0.0701 - accuracy: 0.9760\n",
      "Epoch 00038: saving model to model/keypoint_classifier\\keypoint_classifier.hdf5\n",
      "909/909 [==============================] - 58s 63ms/step - loss: 0.0701 - accuracy: 0.9760 - val_loss: 0.0430 - val_accuracy: 0.9860\n",
      "Epoch 39/100\n",
      "908/909 [============================>.] - ETA: 0s - loss: 0.0726 - accuracy: 0.9747\n",
      "Epoch 00039: saving model to model/keypoint_classifier\\keypoint_classifier.hdf5\n",
      "909/909 [==============================] - 60s 66ms/step - loss: 0.0726 - accuracy: 0.9747 - val_loss: 0.0347 - val_accuracy: 0.9897\n",
      "Epoch 40/100\n",
      "908/909 [============================>.] - ETA: 0s - loss: 0.0700 - accuracy: 0.97 - ETA: 0s - loss: 0.0700 - accuracy: 0.9757\n",
      "Epoch 00040: saving model to model/keypoint_classifier\\keypoint_classifier.hdf5\n",
      "909/909 [==============================] - 68s 75ms/step - loss: 0.0701 - accuracy: 0.9757 - val_loss: 0.0358 - val_accuracy: 0.9893\n",
      "Epoch 41/100\n",
      "909/909 [==============================] - ETA: 0s - loss: 0.0721 - accuracy: 0.9746\n",
      "Epoch 00041: saving model to model/keypoint_classifier\\keypoint_classifier.hdf5\n",
      "909/909 [==============================] - 78s 86ms/step - loss: 0.0721 - accuracy: 0.9746 - val_loss: 0.0348 - val_accuracy: 0.9890\n",
      "Epoch 42/100\n",
      "908/909 [============================>.] - ETA: 0s - loss: 0.0704 - accuracy: 0.9757\n",
      "Epoch 00042: saving model to model/keypoint_classifier\\keypoint_classifier.hdf5\n",
      "909/909 [==============================] - 75s 83ms/step - loss: 0.0705 - accuracy: 0.9757 - val_loss: 0.0395 - val_accuracy: 0.9882\n",
      "Epoch 43/100\n",
      "908/909 [============================>.] - ETA: 0s - loss: 0.0696 - accuracy: 0.9753\n",
      "Epoch 00043: saving model to model/keypoint_classifier\\keypoint_classifier.hdf5\n",
      "909/909 [==============================] - 74s 81ms/step - loss: 0.0697 - accuracy: 0.9753 - val_loss: 0.0380 - val_accuracy: 0.9879\n",
      "Epoch 44/100\n",
      "908/909 [============================>.] - ETA: 0s - loss: 0.0673 - accuracy: 0.9770\n",
      "Epoch 00044: saving model to model/keypoint_classifier\\keypoint_classifier.hdf5\n",
      "909/909 [==============================] - 72s 79ms/step - loss: 0.0674 - accuracy: 0.9770 - val_loss: 0.0334 - val_accuracy: 0.9893\n",
      "Epoch 45/100\n",
      "909/909 [==============================] - ETA: 0s - loss: 0.0674 - accuracy: 0.9764\n",
      "Epoch 00045: saving model to model/keypoint_classifier\\keypoint_classifier.hdf5\n",
      "909/909 [==============================] - 65s 71ms/step - loss: 0.0674 - accuracy: 0.9764 - val_loss: 0.0353 - val_accuracy: 0.9889\n",
      "Epoch 46/100\n",
      "908/909 [============================>.] - ETA: 0s - loss: 0.0673 - accuracy: 0.9764\n",
      "Epoch 00046: saving model to model/keypoint_classifier\\keypoint_classifier.hdf5\n",
      "909/909 [==============================] - 72s 79ms/step - loss: 0.0673 - accuracy: 0.9764 - val_loss: 0.0338 - val_accuracy: 0.9897\n",
      "Epoch 47/100\n",
      "908/909 [============================>.] - ETA: 0s - loss: 0.0658 - accuracy: 0.9771\n",
      "Epoch 00047: saving model to model/keypoint_classifier\\keypoint_classifier.hdf5\n",
      "909/909 [==============================] - 73s 80ms/step - loss: 0.0658 - accuracy: 0.9771 - val_loss: 0.0358 - val_accuracy: 0.9894\n",
      "Epoch 48/100\n",
      "908/909 [============================>.] - ETA: 0s - loss: 0.0645 - accuracy: 0.9774\n",
      "Epoch 00048: saving model to model/keypoint_classifier\\keypoint_classifier.hdf5\n",
      "909/909 [==============================] - 63s 69ms/step - loss: 0.0645 - accuracy: 0.9774 - val_loss: 0.0322 - val_accuracy: 0.9905\n",
      "Epoch 49/100\n",
      "908/909 [============================>.] - ETA: 0s - loss: 0.0635 - accuracy: 0.9779\n",
      "Epoch 00049: saving model to model/keypoint_classifier\\keypoint_classifier.hdf5\n",
      "909/909 [==============================] - 58s 64ms/step - loss: 0.0635 - accuracy: 0.9779 - val_loss: 0.0315 - val_accuracy: 0.9901\n",
      "Epoch 50/100\n",
      "908/909 [============================>.] - ETA: 0s - loss: 0.0604 - accuracy: 0.9786\n",
      "Epoch 00050: saving model to model/keypoint_classifier\\keypoint_classifier.hdf5\n",
      "909/909 [==============================] - 59s 65ms/step - loss: 0.0606 - accuracy: 0.9785 - val_loss: 0.0316 - val_accuracy: 0.9900\n",
      "Epoch 51/100\n",
      "908/909 [============================>.] - ETA: 0s - loss: 0.0649 - accuracy: 0.9775\n",
      "Epoch 00051: saving model to model/keypoint_classifier\\keypoint_classifier.hdf5\n",
      "909/909 [==============================] - 59s 65ms/step - loss: 0.0649 - accuracy: 0.9775 - val_loss: 0.0335 - val_accuracy: 0.9899\n",
      "Epoch 52/100\n",
      "908/909 [============================>.] - ETA: 0s - loss: 0.0605 - accuracy: 0.9787\n",
      "Epoch 00052: saving model to model/keypoint_classifier\\keypoint_classifier.hdf5\n",
      "909/909 [==============================] - 57s 63ms/step - loss: 0.0606 - accuracy: 0.9787 - val_loss: 0.0348 - val_accuracy: 0.9899\n"
     ]
    },
    {
     "name": "stdout",
     "output_type": "stream",
     "text": [
      "Epoch 53/100\n",
      "908/909 [============================>.] - ETA: 0s - loss: 0.0622 - accuracy: 0.9781\n",
      "Epoch 00053: saving model to model/keypoint_classifier\\keypoint_classifier.hdf5\n",
      "909/909 [==============================] - 55s 61ms/step - loss: 0.0622 - accuracy: 0.9781 - val_loss: 0.0342 - val_accuracy: 0.9891\n",
      "Epoch 54/100\n",
      "908/909 [============================>.] - ETA: 0s - loss: 0.0613 - accuracy: 0.9787\n",
      "Epoch 00054: saving model to model/keypoint_classifier\\keypoint_classifier.hdf5\n",
      "909/909 [==============================] - 57s 63ms/step - loss: 0.0613 - accuracy: 0.9787 - val_loss: 0.0308 - val_accuracy: 0.9913\n",
      "Epoch 55/100\n",
      "908/909 [============================>.] - ETA: 0s - loss: 0.0597 - accuracy: 0.9791\n",
      "Epoch 00055: saving model to model/keypoint_classifier\\keypoint_classifier.hdf5\n",
      "909/909 [==============================] - 57s 62ms/step - loss: 0.0597 - accuracy: 0.9791 - val_loss: 0.0301 - val_accuracy: 0.9909\n",
      "Epoch 56/100\n",
      "908/909 [============================>.] - ETA: 0s - loss: 0.0588 - accuracy: 0.9794\n",
      "Epoch 00056: saving model to model/keypoint_classifier\\keypoint_classifier.hdf5\n",
      "909/909 [==============================] - 59s 65ms/step - loss: 0.0588 - accuracy: 0.9794 - val_loss: 0.0301 - val_accuracy: 0.9913\n",
      "Epoch 57/100\n",
      "908/909 [============================>.] - ETA: 0s - loss: 0.0604 - accuracy: 0.9790\n",
      "Epoch 00057: saving model to model/keypoint_classifier\\keypoint_classifier.hdf5\n",
      "909/909 [==============================] - 59s 65ms/step - loss: 0.0604 - accuracy: 0.9790 - val_loss: 0.0317 - val_accuracy: 0.9902\n",
      "Epoch 58/100\n",
      "908/909 [============================>.] - ETA: 0s - loss: 0.0598 - accuracy: 0.9791 ETA: 0s - loss: 0.060\n",
      "Epoch 00058: saving model to model/keypoint_classifier\\keypoint_classifier.hdf5\n",
      "909/909 [==============================] - 59s 65ms/step - loss: 0.0599 - accuracy: 0.9791 - val_loss: 0.0353 - val_accuracy: 0.9889\n",
      "Epoch 59/100\n",
      "908/909 [============================>.] - ETA: 0s - loss: 0.0567 - accuracy: 0.9804 ETA: \n",
      "Epoch 00059: saving model to model/keypoint_classifier\\keypoint_classifier.hdf5\n",
      "909/909 [==============================] - 59s 65ms/step - loss: 0.0568 - accuracy: 0.9804 - val_loss: 0.0274 - val_accuracy: 0.9917\n",
      "Epoch 60/100\n",
      "908/909 [============================>.] - ETA: 0s - loss: 0.0584 - accuracy: 0.9798\n",
      "Epoch 00060: saving model to model/keypoint_classifier\\keypoint_classifier.hdf5\n",
      "909/909 [==============================] - 60s 66ms/step - loss: 0.0585 - accuracy: 0.9798 - val_loss: 0.0307 - val_accuracy: 0.9905\n",
      "Epoch 61/100\n",
      "908/909 [============================>.] - ETA: 0s - loss: 0.0551 - accuracy: 0.9810\n",
      "Epoch 00061: saving model to model/keypoint_classifier\\keypoint_classifier.hdf5\n",
      "909/909 [==============================] - 59s 65ms/step - loss: 0.0552 - accuracy: 0.9810 - val_loss: 0.0313 - val_accuracy: 0.9902\n",
      "Epoch 62/100\n",
      "908/909 [============================>.] - ETA: 0s - loss: 0.0544 - accuracy: 0.9809\n",
      "Epoch 00062: saving model to model/keypoint_classifier\\keypoint_classifier.hdf5\n",
      "909/909 [==============================] - 59s 65ms/step - loss: 0.0544 - accuracy: 0.9808 - val_loss: 0.0294 - val_accuracy: 0.9906\n",
      "Epoch 63/100\n",
      "908/909 [============================>.] - ETA: 0s - loss: 0.0550 - accuracy: 0.9806\n",
      "Epoch 00063: saving model to model/keypoint_classifier\\keypoint_classifier.hdf5\n",
      "909/909 [==============================] - 59s 65ms/step - loss: 0.0550 - accuracy: 0.9806 - val_loss: 0.0274 - val_accuracy: 0.9917\n",
      "Epoch 64/100\n",
      "908/909 [============================>.] - ETA: 0s - loss: 0.0539 - accuracy: 0.9810\n",
      "Epoch 00064: saving model to model/keypoint_classifier\\keypoint_classifier.hdf5\n",
      "909/909 [==============================] - 59s 65ms/step - loss: 0.0540 - accuracy: 0.9810 - val_loss: 0.0324 - val_accuracy: 0.9902\n",
      "Epoch 65/100\n",
      "908/909 [============================>.] - ETA: 0s - loss: 0.0546 - accuracy: 0.9812\n",
      "Epoch 00065: saving model to model/keypoint_classifier\\keypoint_classifier.hdf5\n",
      "909/909 [==============================] - 59s 65ms/step - loss: 0.0548 - accuracy: 0.9812 - val_loss: 0.0283 - val_accuracy: 0.9918\n",
      "Epoch 66/100\n",
      "908/909 [============================>.] - ETA: 0s - loss: 0.0526 - accuracy: 0.9820 E\n",
      "Epoch 00066: saving model to model/keypoint_classifier\\keypoint_classifier.hdf5\n",
      "909/909 [==============================] - 60s 66ms/step - loss: 0.0528 - accuracy: 0.9819 - val_loss: 0.0334 - val_accuracy: 0.9895\n",
      "Epoch 67/100\n",
      "908/909 [============================>.] - ETA: 0s - loss: 0.0563 - accuracy: 0.9799\n",
      "Epoch 00067: saving model to model/keypoint_classifier\\keypoint_classifier.hdf5\n",
      "909/909 [==============================] - 59s 65ms/step - loss: 0.0563 - accuracy: 0.9799 - val_loss: 0.0253 - val_accuracy: 0.9923\n",
      "Epoch 68/100\n",
      "908/909 [============================>.] - ETA: 0s - loss: 0.0540 - accuracy: 0.9812\n",
      "Epoch 00068: saving model to model/keypoint_classifier\\keypoint_classifier.hdf5\n",
      "909/909 [==============================] - 58s 64ms/step - loss: 0.0541 - accuracy: 0.9812 - val_loss: 0.0272 - val_accuracy: 0.9911\n",
      "Epoch 69/100\n",
      "908/909 [============================>.] - ETA: 0s - loss: 0.0521 - accuracy: 0.9820\n",
      "Epoch 00069: saving model to model/keypoint_classifier\\keypoint_classifier.hdf5\n",
      "909/909 [==============================] - 214s 235ms/step - loss: 0.0521 - accuracy: 0.9820 - val_loss: 0.0256 - val_accuracy: 0.9926\n",
      "Epoch 70/100\n",
      "908/909 [============================>.] - ETA: 0s - loss: 0.0506 - accuracy: 0.9820\n",
      "Epoch 00070: saving model to model/keypoint_classifier\\keypoint_classifier.hdf5\n",
      "909/909 [==============================] - 56s 61ms/step - loss: 0.0506 - accuracy: 0.9820 - val_loss: 0.0314 - val_accuracy: 0.9905\n",
      "Epoch 71/100\n",
      "908/909 [============================>.] - ETA: 0s - loss: 0.0505 - accuracy: 0.9823\n",
      "Epoch 00071: saving model to model/keypoint_classifier\\keypoint_classifier.hdf5\n",
      "909/909 [==============================] - 59s 65ms/step - loss: 0.0506 - accuracy: 0.9823 - val_loss: 0.0304 - val_accuracy: 0.9902\n",
      "Epoch 72/100\n",
      "908/909 [============================>.] - ETA: 0s - loss: 0.0515 - accuracy: 0.9819 ETA: 1s - loss: - ETA: 0s - loss: 0.0515 - accura - ETA: 0s - loss: 0.0515 - accuracy: 0.9819\n",
      "Epoch 00072: saving model to model/keypoint_classifier\\keypoint_classifier.hdf5\n",
      "909/909 [==============================] - 60s 66ms/step - loss: 0.0515 - accuracy: 0.9819 - val_loss: 0.0280 - val_accuracy: 0.9919\n",
      "Epoch 73/100\n",
      "908/909 [============================>.] - ETA: 0s - loss: 0.0488 - accuracy: 0.9829 ETA: 0s - loss: 0.0487 - accuracy\n",
      "Epoch 00073: saving model to model/keypoint_classifier\\keypoint_classifier.hdf5\n",
      "909/909 [==============================] - 60s 66ms/step - loss: 0.0488 - accuracy: 0.9829 - val_loss: 0.0253 - val_accuracy: 0.9930\n",
      "Epoch 74/100\n",
      "908/909 [============================>.] - ETA: 0s - loss: 0.0516 - accuracy: 0.9819\n",
      "Epoch 00074: saving model to model/keypoint_classifier\\keypoint_classifier.hdf5\n",
      "909/909 [==============================] - 61s 68ms/step - loss: 0.0516 - accuracy: 0.9819 - val_loss: 0.0263 - val_accuracy: 0.9922\n",
      "Epoch 75/100\n",
      "908/909 [============================>.] - ETA: 0s - loss: 0.0497 - accuracy: 0.9825\n",
      "Epoch 00075: saving model to model/keypoint_classifier\\keypoint_classifier.hdf5\n",
      "909/909 [==============================] - 62s 69ms/step - loss: 0.0498 - accuracy: 0.9825 - val_loss: 0.0272 - val_accuracy: 0.9920\n",
      "Epoch 76/100\n",
      "908/909 [============================>.] - ETA: 0s - loss: 0.0502 - accuracy: 0.9827\n",
      "Epoch 00076: saving model to model/keypoint_classifier\\keypoint_classifier.hdf5\n",
      "909/909 [==============================] - 62s 68ms/step - loss: 0.0502 - accuracy: 0.9826 - val_loss: 0.0287 - val_accuracy: 0.9911\n",
      "Epoch 77/100\n",
      "908/909 [============================>.] - ETA: 0s - loss: 0.0492 - accuracy: 0.9830\n",
      "Epoch 00077: saving model to model/keypoint_classifier\\keypoint_classifier.hdf5\n",
      "909/909 [==============================] - 63s 69ms/step - loss: 0.0492 - accuracy: 0.9830 - val_loss: 0.0237 - val_accuracy: 0.9933\n",
      "Epoch 78/100\n",
      "908/909 [============================>.] - ETA: 0s - loss: 0.0468 - accuracy: 0.9836\n",
      "Epoch 00078: saving model to model/keypoint_classifier\\keypoint_classifier.hdf5\n",
      "909/909 [==============================] - 61s 67ms/step - loss: 0.0468 - accuracy: 0.9836 - val_loss: 0.0282 - val_accuracy: 0.9911\n"
     ]
    },
    {
     "name": "stdout",
     "output_type": "stream",
     "text": [
      "Epoch 79/100\n",
      "909/909 [==============================] - ETA: 0s - loss: 0.0484 - accuracy: 0.9833\n",
      "Epoch 00079: saving model to model/keypoint_classifier\\keypoint_classifier.hdf5\n",
      "909/909 [==============================] - 56s 62ms/step - loss: 0.0484 - accuracy: 0.9833 - val_loss: 0.0267 - val_accuracy: 0.9920\n",
      "Epoch 80/100\n",
      "908/909 [============================>.] - ETA: 0s - loss: 0.0496 - accuracy: 0.9828\n",
      "Epoch 00080: saving model to model/keypoint_classifier\\keypoint_classifier.hdf5\n",
      "909/909 [==============================] - 58s 64ms/step - loss: 0.0496 - accuracy: 0.9828 - val_loss: 0.0299 - val_accuracy: 0.9902\n",
      "Epoch 81/100\n",
      "908/909 [============================>.] - ETA: 0s - loss: 0.0473 - accuracy: 0.9838 ETA: \n",
      "Epoch 00081: saving model to model/keypoint_classifier\\keypoint_classifier.hdf5\n",
      "909/909 [==============================] - 61s 67ms/step - loss: 0.0474 - accuracy: 0.9838 - val_loss: 0.0254 - val_accuracy: 0.9926\n",
      "Epoch 82/100\n",
      "908/909 [============================>.] - ETA: 0s - loss: 0.0472 - accuracy: 0.9839\n",
      "Epoch 00082: saving model to model/keypoint_classifier\\keypoint_classifier.hdf5\n",
      "909/909 [==============================] - 57s 63ms/step - loss: 0.0472 - accuracy: 0.9838 - val_loss: 0.0265 - val_accuracy: 0.9922\n",
      "Epoch 83/100\n",
      "908/909 [============================>.] - ETA: 0s - loss: 0.0478 - accuracy: 0.9831\n",
      "Epoch 00083: saving model to model/keypoint_classifier\\keypoint_classifier.hdf5\n",
      "909/909 [==============================] - 56s 62ms/step - loss: 0.0478 - accuracy: 0.9830 - val_loss: 0.0302 - val_accuracy: 0.9905\n",
      "Epoch 84/100\n",
      "908/909 [============================>.] - ETA: 0s - loss: 0.0467 - accuracy: 0.9836\n",
      "Epoch 00084: saving model to model/keypoint_classifier\\keypoint_classifier.hdf5\n",
      "909/909 [==============================] - 58s 64ms/step - loss: 0.0468 - accuracy: 0.9836 - val_loss: 0.0264 - val_accuracy: 0.9916\n",
      "Epoch 85/100\n",
      "908/909 [============================>.] - ETA: 0s - loss: 0.0479 - accuracy: 0.9837\n",
      "Epoch 00085: saving model to model/keypoint_classifier\\keypoint_classifier.hdf5\n",
      "909/909 [==============================] - 59s 65ms/step - loss: 0.0482 - accuracy: 0.9836 - val_loss: 0.0275 - val_accuracy: 0.9917\n",
      "Epoch 86/100\n",
      "908/909 [============================>.] - ETA: 0s - loss: 0.0483 - accuracy: 0.9830\n",
      "Epoch 00086: saving model to model/keypoint_classifier\\keypoint_classifier.hdf5\n",
      "909/909 [==============================] - 60s 66ms/step - loss: 0.0484 - accuracy: 0.9830 - val_loss: 0.0295 - val_accuracy: 0.9911\n",
      "Epoch 87/100\n",
      "908/909 [============================>.] - ETA: 0s - loss: 0.0464 - accuracy: 0.9836 E\n",
      "Epoch 00087: saving model to model/keypoint_classifier\\keypoint_classifier.hdf5\n",
      "909/909 [==============================] - 61s 67ms/step - loss: 0.0464 - accuracy: 0.9836 - val_loss: 0.0234 - val_accuracy: 0.9932\n",
      "Epoch 88/100\n",
      "909/909 [==============================] - ETA: 0s - loss: 0.0478 - accuracy: 0.9832\n",
      "Epoch 00088: saving model to model/keypoint_classifier\\keypoint_classifier.hdf5\n",
      "909/909 [==============================] - 55s 61ms/step - loss: 0.0478 - accuracy: 0.9832 - val_loss: 0.0253 - val_accuracy: 0.9924\n",
      "Epoch 89/100\n",
      "908/909 [============================>.] - ETA: 0s - loss: 0.0453 - accuracy: 0.9843\n",
      "Epoch 00089: saving model to model/keypoint_classifier\\keypoint_classifier.hdf5\n",
      "909/909 [==============================] - 53s 58ms/step - loss: 0.0455 - accuracy: 0.9843 - val_loss: 0.0228 - val_accuracy: 0.9935\n",
      "Epoch 90/100\n",
      "908/909 [============================>.] - ETA: 0s - loss: 0.0458 - accuracy: 0.9839\n",
      "Epoch 00090: saving model to model/keypoint_classifier\\keypoint_classifier.hdf5\n",
      "909/909 [==============================] - 57s 62ms/step - loss: 0.0458 - accuracy: 0.9839 - val_loss: 0.0255 - val_accuracy: 0.9927\n",
      "Epoch 91/100\n",
      "909/909 [==============================] - ETA: 0s - loss: 0.0427 - accuracy: 0.9851\n",
      "Epoch 00091: saving model to model/keypoint_classifier\\keypoint_classifier.hdf5\n",
      "909/909 [==============================] - 59s 65ms/step - loss: 0.0427 - accuracy: 0.9851 - val_loss: 0.0248 - val_accuracy: 0.9927\n",
      "Epoch 92/100\n",
      "908/909 [============================>.] - ETA: 0s - loss: 0.0465 - accuracy: 0.9836\n",
      "Epoch 00092: saving model to model/keypoint_classifier\\keypoint_classifier.hdf5\n",
      "909/909 [==============================] - 66s 73ms/step - loss: 0.0465 - accuracy: 0.9836 - val_loss: 0.0248 - val_accuracy: 0.9927\n",
      "Epoch 93/100\n",
      "908/909 [============================>.] - ETA: 0s - loss: 0.0440 - accuracy: 0.9848\n",
      "Epoch 00093: saving model to model/keypoint_classifier\\keypoint_classifier.hdf5\n",
      "909/909 [==============================] - 64s 70ms/step - loss: 0.0440 - accuracy: 0.9848 - val_loss: 0.0233 - val_accuracy: 0.9932\n",
      "Epoch 94/100\n",
      "908/909 [============================>.] - ETA: 0s - loss: 0.0426 - accuracy: 0.9853\n",
      "Epoch 00094: saving model to model/keypoint_classifier\\keypoint_classifier.hdf5\n",
      "909/909 [==============================] - 58s 64ms/step - loss: 0.0426 - accuracy: 0.9853 - val_loss: 0.0251 - val_accuracy: 0.9925\n",
      "Epoch 95/100\n",
      "908/909 [============================>.] - ETA: 0s - loss: 0.0438 - accuracy: 0.9848\n",
      "Epoch 00095: saving model to model/keypoint_classifier\\keypoint_classifier.hdf5\n",
      "909/909 [==============================] - 56s 62ms/step - loss: 0.0439 - accuracy: 0.9848 - val_loss: 0.0249 - val_accuracy: 0.9918\n",
      "Epoch 96/100\n",
      "908/909 [============================>.] - ETA: 0s - loss: 0.0427 - accuracy: 0.9852\n",
      "Epoch 00096: saving model to model/keypoint_classifier\\keypoint_classifier.hdf5\n",
      "909/909 [==============================] - 63s 69ms/step - loss: 0.0428 - accuracy: 0.9852 - val_loss: 0.0253 - val_accuracy: 0.9919\n",
      "Epoch 97/100\n",
      "908/909 [============================>.] - ETA: 0s - loss: 0.0444 - accuracy: 0.9847\n",
      "Epoch 00097: saving model to model/keypoint_classifier\\keypoint_classifier.hdf5\n",
      "909/909 [==============================] - 68s 75ms/step - loss: 0.0445 - accuracy: 0.9846 - val_loss: 0.0260 - val_accuracy: 0.9922\n",
      "Epoch 98/100\n",
      "908/909 [============================>.] - ETA: 0s - loss: 0.0435 - accuracy: 0.9848\n",
      "Epoch 00098: saving model to model/keypoint_classifier\\keypoint_classifier.hdf5\n",
      "909/909 [==============================] - 61s 67ms/step - loss: 0.0435 - accuracy: 0.9848 - val_loss: 0.0204 - val_accuracy: 0.9943\n",
      "Epoch 99/100\n",
      "908/909 [============================>.] - ETA: 0s - loss: 0.0434 - accuracy: 0.9851\n",
      "Epoch 00099: saving model to model/keypoint_classifier\\keypoint_classifier.hdf5\n",
      "909/909 [==============================] - 59s 64ms/step - loss: 0.0434 - accuracy: 0.9851 - val_loss: 0.0244 - val_accuracy: 0.9925\n",
      "Epoch 100/100\n",
      "908/909 [============================>.] - ETA: 0s - loss: 0.0419 - accuracy: 0.9856 ETA\n",
      "Epoch 00100: saving model to model/keypoint_classifier\\keypoint_classifier.hdf5\n",
      "909/909 [==============================] - 57s 63ms/step - loss: 0.0420 - accuracy: 0.9856 - val_loss: 0.0222 - val_accuracy: 0.9937\n",
      "Execution time in seconds: 6509.971338272095\n"
     ]
    }
   ],
   "source": [
    "import time\n",
    "startTime = time.time()\n",
    "\n",
    "history = model.fit(\n",
    "    X_train,\n",
    "    y_train,\n",
    "    epochs=100,\n",
    "    batch_size=128,\n",
    "    validation_data=(X_val, y_val),\n",
    "    callbacks=[cp_callback, es_callback,tensorboard_callback]\n",
    ")\n",
    "executionTime = (time.time() - startTime)\n",
    "print('Execution time in seconds: ' + str(executionTime))\n"
   ]
  },
  {
   "cell_type": "code",
   "execution_count": null,
   "metadata": {},
   "outputs": [],
   "source": [
    "%tensorboard --logdir logs/fit"
   ]
  },
  {
   "cell_type": "code",
   "execution_count": 172,
   "metadata": {},
   "outputs": [
    {
     "name": "stdout",
     "output_type": "stream",
     "text": [
      "303/303 [==============================] - 5s 15ms/step - loss: 0.0404 - accuracy: 0.9876\n"
     ]
    }
   ],
   "source": [
    "# ĐÁNH GIÁ\n",
    "val_loss, val_acc = model.evaluate(X_val, y_val, batch_size=128)"
   ]
  },
  {
   "cell_type": "code",
   "execution_count": 173,
   "metadata": {},
   "outputs": [],
   "source": [
    "model.save(r\"C:\\Users\\ayk_1\\PycharmProjects\\hand-gesture-recognition-using-mediapipe\\trained_model.hdf5\")"
   ]
  },
  {
   "cell_type": "code",
   "execution_count": 174,
   "metadata": {
    "scrolled": true
   },
   "outputs": [],
   "source": [
    "# LOAD MODEL\n",
    "model = tf.keras.models.load_model(model_save_path)"
   ]
  },
  {
   "cell_type": "code",
   "execution_count": null,
   "metadata": {},
   "outputs": [],
   "source": []
  },
  {
   "cell_type": "code",
   "execution_count": 175,
   "metadata": {},
   "outputs": [
    {
     "name": "stdout",
     "output_type": "stream",
     "text": [
      "[2.6385900e-09 1.0673390e-11 1.9841061e-13 3.4507163e-13 2.6012734e-12\n",
      " 7.5019431e-14 8.8148482e-11 2.9828357e-08 1.7054055e-06 8.7158260e-11\n",
      " 9.9037402e-17 1.7501229e-09 2.0409617e-11 4.3953429e-18 1.9317659e-14\n",
      " 3.9000234e-16 2.4294954e-12 6.3523498e-09 7.9922120e-13 3.0602618e-10\n",
      " 2.5495532e-09 1.2255899e-12 4.5210441e-12 3.7324215e-14 9.9999821e-01\n",
      " 7.1201751e-12 5.7174827e-11 3.6730005e-14]\n",
      "24\n"
     ]
    }
   ],
   "source": [
    "# TEST\n",
    "predict_result = model.predict(np.array([X_val[0]]))\n",
    "print(np.squeeze(predict_result))\n",
    "print(np.argmax(np.squeeze(predict_result)))"
   ]
  },
  {
   "cell_type": "markdown",
   "metadata": {},
   "source": [
    "# 混同行列"
   ]
  },
  {
   "cell_type": "code",
   "execution_count": 176,
   "metadata": {},
   "outputs": [
    {
     "data": {
      "image/png": "[encoded data removed]",
      "text/plain": [
       "<Figure size 504x432 with 2 Axes>"
      ]
     },
     "metadata": {
      "needs_background": "light"
     },
     "output_type": "display_data"
    },
    {
     "name": "stdout",
     "output_type": "stream",
     "text": [
      "Classification Report\n",
      "              precision    recall  f1-score   support\n",
      "\n",
      "           0       0.99      0.99      0.99      1284\n",
      "           1       0.99      1.00      1.00       933\n",
      "           2       0.99      0.98      0.98      2151\n",
      "           3       0.99      0.99      0.99      1073\n",
      "           4       0.99      0.99      0.99      2069\n",
      "           5       1.00      1.00      1.00      1225\n",
      "           6       0.99      1.00      1.00      1922\n",
      "           7       1.00      1.00      1.00      1326\n",
      "           8       1.00      1.00      1.00       950\n",
      "           9       1.00      1.00      1.00       961\n",
      "          10       1.00      1.00      1.00      1180\n",
      "          11       1.00      1.00      1.00      1786\n",
      "          12       1.00      0.99      1.00      1716\n",
      "          13       1.00      1.00      1.00      1972\n",
      "          14       0.96      0.98      0.97      1301\n",
      "          15       1.00      1.00      1.00      1065\n",
      "          16       0.99      1.00      1.00       757\n",
      "          17       0.98      1.00      0.99      1646\n",
      "          18       1.00      1.00      1.00      1951\n",
      "          19       0.99      1.00      0.99      1364\n",
      "          20       0.99      0.98      0.99      1381\n",
      "          21       1.00      0.99      0.99      1422\n",
      "          22       1.00      0.99      1.00      1228\n",
      "          23       1.00      1.00      1.00      1705\n",
      "          24       1.00      1.00      1.00      1306\n",
      "          25       0.99      0.98      0.99      1147\n",
      "          26       1.00      1.00      1.00       884\n",
      "          27       1.00      0.99      0.99      1044\n",
      "\n",
      "    accuracy                           0.99     38749\n",
      "   macro avg       0.99      0.99      0.99     38749\n",
      "weighted avg       0.99      0.99      0.99     38749\n",
      "\n"
     ]
    }
   ],
   "source": [
    "import pandas as pd\n",
    "import seaborn as sns\n",
    "import matplotlib.pyplot as plt\n",
    "from sklearn.metrics import confusion_matrix, classification_report\n",
    "\n",
    "def print_confusion_matrix(y_true, y_pred, report=True):\n",
    "    labels = sorted(list(set(y_true)))\n",
    "    cmx_data = confusion_matrix(y_true, y_pred, labels=labels)\n",
    "    \n",
    "    df_cmx = pd.DataFrame(cmx_data, index=labels, columns=labels)\n",
    " \n",
    "    fig, ax = plt.subplots(figsize=(7, 6))\n",
    "    sns.heatmap(df_cmx, annot=True, fmt='g' ,square=False)\n",
    "    ax.set_ylim(len(set(y_true)), 0)\n",
    "    plt.show()\n",
    "    \n",
    "    if report:\n",
    "        print('Classification Report')\n",
    "        print(classification_report(y_val, y_pred))\n",
    "\n",
    "Y_pred = model.predict(X_val)\n",
    "y_pred = np.argmax(Y_pred, axis=1)\n",
    "\n",
    "print_confusion_matrix(y_val, y_pred)"
   ]
  },
  {
   "cell_type": "markdown",
   "metadata": {},
   "source": [
    "# CHUYỂN SANG Tensorflow-Lite"
   ]
  },
  {
   "cell_type": "code",
   "execution_count": 177,
   "metadata": {},
   "outputs": [],
   "source": [
    "model.save(model_save_path, include_optimizer=False)"
   ]
  },
  {
   "cell_type": "code",
   "execution_count": 178,
   "metadata": {},
   "outputs": [
    {
     "name": "stdout",
     "output_type": "stream",
     "text": [
      "WARNING:tensorflow:From C:\\Users\\ayk_1\\anaconda3\\envs\\pythonProject2\\lib\\site-packages\\tensorflow\\python\\training\\tracking\\tracking.py:111: Model.state_updates (from tensorflow.python.keras.engine.training) is deprecated and will be removed in a future version.\n",
      "Instructions for updating:\n",
      "This property should not be used in TensorFlow 2.0, as updates are applied automatically.\n",
      "WARNING:tensorflow:From C:\\Users\\ayk_1\\anaconda3\\envs\\pythonProject2\\lib\\site-packages\\tensorflow\\python\\training\\tracking\\tracking.py:111: Layer.updates (from tensorflow.python.keras.engine.base_layer) is deprecated and will be removed in a future version.\n",
      "Instructions for updating:\n",
      "This property should not be used in TensorFlow 2.0, as updates are applied automatically.\n",
      "INFO:tensorflow:Assets written to: C:\\Users\\ayk_1\\AppData\\Local\\Temp\\tmpu1ee325y\\assets\n"
     ]
    },
    {
     "data": {
      "text/plain": [
       "1491504"
      ]
     },
     "execution_count": 178,
     "metadata": {},
     "output_type": "execute_result"
    }
   ],
   "source": [
    "tflite_save_path = 'model/keypoint_classifier/keypoint_classifier.tflite'\n",
    "\n",
    "converter = tf.lite.TFLiteConverter.from_keras_model(model)\n",
    "converter.optimizations = [tf.lite.Optimize.DEFAULT]\n",
    "tflite_quantized_model = converter.convert()\n",
    "\n",
    "open(tflite_save_path, 'wb').write(tflite_quantized_model)"
   ]
  },
  {
   "cell_type": "markdown",
   "metadata": {},
   "source": [
    "# TEST"
   ]
  },
  {
   "cell_type": "code",
   "execution_count": null,
   "metadata": {},
   "outputs": [],
   "source": [
    "interpreter = tf.lite.Interpreter(model_path=tflite_save_path)\n",
    "interpreter.allocate_tensors()"
   ]
  },
  {
   "cell_type": "code",
   "execution_count": null,
   "metadata": {},
   "outputs": [],
   "source": [
    "# 入出力テンソルを取得\n",
    "input_details = interpreter.get_input_details()\n",
    "output_details = interpreter.get_output_details()"
   ]
  },
  {
   "cell_type": "code",
   "execution_count": null,
   "metadata": {},
   "outputs": [],
   "source": [
    "interpreter.set_tensor(input_details[0]['index'], np.array([X_test[0]]))"
   ]
  },
  {
   "cell_type": "code",
   "execution_count": null,
   "metadata": {},
   "outputs": [],
   "source": [
    "input_details"
   ]
  },
  {
   "cell_type": "code",
   "execution_count": null,
   "metadata": {},
   "outputs": [],
   "source": [
    "np.shape(np.array([X_test[0]]))"
   ]
  },
  {
   "cell_type": "code",
   "execution_count": null,
   "metadata": {
    "scrolled": true
   },
   "outputs": [],
   "source": [
    "%%time\n",
    "# 推論実施\n",
    "interpreter.invoke()\n",
    "tflite_results = interpreter.get_tensor(output_details[0]['index'])"
   ]
  },
  {
   "cell_type": "code",
   "execution_count": null,
   "metadata": {},
   "outputs": [],
   "source": [
    "print(np.squeeze(tflite_results))\n",
    "print(np.argmax(np.squeeze(tflite_results)))"
   ]
  },
  {
   "cell_type": "code",
   "execution_count": null,
   "metadata": {},
   "outputs": [],
   "source": []
  }
 ],
 "metadata": {
  "kernelspec": {
   "display_name": "Python 3 (ipykernel)",
   "language": "python",
   "name": "python3"
  },
  "language_info": {
   "codemirror_mode": {
    "name": "ipython",
    "version": 3
   },
   "file_extension": ".py",
   "mimetype": "text/x-python",
   "name": "python",
   "nbconvert_exporter": "python",
   "pygments_lexer": "ipython3",
   "version": "3.8.13"
  }
 },
 "nbformat": 4,
 "nbformat_minor": 4
}
